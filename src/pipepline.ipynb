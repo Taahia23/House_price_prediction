{
 "cells": [
  {
   "cell_type": "code",
   "execution_count": 6,
   "id": "dde412b1",
   "metadata": {},
   "outputs": [],
   "source": [
    "\n",
    "from sklearn.model_selection import train_test_split\n",
    "from sklearn.pipeline import Pipeline\n",
    "from sklearn.impute import SimpleImputer\n",
    "from sklearn.preprocessing import StandardScaler\n",
    "from sklearn.compose import ColumnTransformer\n",
    "from sklearn.ensemble import RandomForestRegressor\n",
    "from sklearn.linear_model import LinearRegression\n",
    "from sklearn.metrics import root_mean_squared_error\n",
    "import joblib\n",
    "\n"
   ]
  },
  {
   "cell_type": "code",
   "execution_count": 7,
   "id": "3ba48c62",
   "metadata": {},
   "outputs": [
    {
     "name": "stdout",
     "output_type": "stream",
     "text": [
      "Numerical features: ['Square_Footage', 'Num_Bedrooms', 'Num_Bathrooms', 'Year_Built', 'Lot_Size', 'Garage_Size', 'Neighborhood_Quality']\n"
     ]
    }
   ],
   "source": [
    "\n",
    "import pandas as pd\n",
    "import numpy as np\n",
    "\n",
    "# Load data\n",
    "train_data = pd.read_csv('../data/house_price_regression_dataset.csv')\n",
    "\n",
    "# Split features and target\n",
    "X_train = train_data.drop('House_Price', axis=1)\n",
    "y_train = train_data['House_Price'].copy()\n",
    "\n",
    "# Create a validation set\n",
    "X_train, X_val, y_train, y_val = train_test_split(X_train, y_train, \n",
    "                                                 test_size=0.2, \n",
    "                                                 random_state=42)\n",
    "\n",
    "num_features = X_train.select_dtypes(include=np.number).columns\n",
    "\n",
    "print(\"Numerical features:\", num_features.tolist())"
   ]
  },
  {
   "cell_type": "code",
   "execution_count": 10,
   "id": "17b3b84c",
   "metadata": {},
   "outputs": [],
   "source": [
    "# Create pipelines\n",
    "num_pipeline = Pipeline([\n",
    "    ('num_imputer', SimpleImputer(strategy='mean')),\n",
    "    ('std_scaler', StandardScaler())\n",
    "])\n",
    "\n",
    "pre_processing_pipeline = ColumnTransformer([\n",
    "    ('num_pipe', num_pipeline, num_features),\n",
    "])"
   ]
  }
 ],
 "metadata": {
  "kernelspec": {
   "display_name": "base",
   "language": "python",
   "name": "python3"
  },
  "language_info": {
   "codemirror_mode": {
    "name": "ipython",
    "version": 3
   },
   "file_extension": ".py",
   "mimetype": "text/x-python",
   "name": "python",
   "nbconvert_exporter": "python",
   "pygments_lexer": "ipython3",
   "version": "3.12.7"
  }
 },
 "nbformat": 4,
 "nbformat_minor": 5
}
